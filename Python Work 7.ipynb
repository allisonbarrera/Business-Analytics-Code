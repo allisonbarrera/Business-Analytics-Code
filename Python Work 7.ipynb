{
 "cells": [
  {
   "cell_type": "markdown",
   "metadata": {},
   "source": [
    "## Within this code below I worked with APIs to run through data to pull out specific information I wanted."
   ]
  },
  {
   "cell_type": "code",
   "execution_count": null,
   "metadata": {},
   "outputs": [],
   "source": [
    "import pandas as pd\n",
    "import json  \n",
    "import requests\n",
    "import time\n",
    "\n",
    "##this assigns the filename we're trying to load in to a string variable\n",
    "msas = pd.read_csv('msas.csv')\n",
    "\n",
    "##this uses the pandas package to load the csv file into a pandas dataframe\n",
    "\n",
    "#table ids I want to download \n",
    "#joining list together for table id\n",
    "tableids = ['B01001', 'B03002', 'B19001'] \n",
    "tableidstring = ','.join(tableids)\n",
    "#age,income, race\n",
    "\n",
    "\n",
    "msas['Value'] = '31000US'\n",
    "msas['geo'] = msas[['Value', 'CBSA']].astype(str).sum(axis=1)\n",
    "\n",
    "#setting empty variables  \n",
    "geoid= msas['geo'] \n",
    "\n",
    "for msas in geoid:\n",
    "    ageurl =  'http://api.censusreporter.org/1.0/data/show/latest?table_ids=B01001&geo_ids=%s' % msas\n",
    "    censusreporter = requests.get(ageurl)\n",
    "    loadedjson = json.loads(censusreporter.content)\n",
    "    agetotal = 0\n",
    "    agetotal += loadedjson['data'][msas]['B01001']['estimate']['B01001007']\n",
    "    agetotal += loadedjson['data'][msas]['B01001']['estimate']['B01001008']\n",
    "    agetotal += loadedjson['data'][msas]['B01001']['estimate']['B01001009']\n",
    "    agetotal += loadedjson['data'][msas]['B01001']['estimate']['B01001010']\n",
    "    agetotal += loadedjson['data'][msas]['B01001']['estimate']['B01001011']\n",
    "    agetotal += loadedjson['data'][msas]['B01001']['estimate']['B01001012']\n",
    "    agetotal += loadedjson['data'][msas]['B01001']['estimate']['B01001031']\n",
    "    agetotal += loadedjson['data'][msas]['B01001']['estimate']['B01001032']\n",
    "    agetotal += loadedjson['data'][msas]['B01001']['estimate']['B01001033']\n",
    "    agetotal += loadedjson['data'][msas]['B01001']['estimate']['B01001034']\n",
    "    agetotal += loadedjson['data'][msas]['B01001']['estimate']['B01001035']\n",
    "    agetotal += loadedjson['data'][msas]['B01001']['estimate']['B01001036']\n",
    "    print(msas, agetotal)\n",
    "    \n",
    "    for msas in geoid:\n",
    "    incomeurl = 'http://api.censusreporter.org/1.0/data/show/latest?table_ids=B19001&geo_ids=%s' % msas\n",
    "    censusreporter = requests.get(incomeurl)\n",
    "    loadedjson = json.loads(censusreporter.content)\n",
    "    incometotal = 0\n",
    "    incometotal += loadedjson['data'][msas]['B19001']['estimate']['B19001011']\n",
    "    incometotal += loadedjson['data'][msas]['B19001']['estimate']['B19001012']\n",
    "    print(msas, incometotal)\n",
    "    \n",
    "    for msas in geoid:\n",
    "    hispanicurl = 'http://api.censusreporter.org/1.0/data/show/latest?table_ids=B03002&geo_ids=%s' % msas\n",
    "    censusreporter = requests.get(hispanicurl)\n",
    "    loadedjson = json.loads(censusreporter.content)\n",
    "    hispanictotal = 0\n",
    "    hispanictotal += loadedjson['data'][msas]['B03002']['estimate']['B03002012']\n",
    "    print(msas, hispanictotal)\n",
    "    \n",
    "    sum(msas[POPESTIMATE2017]) #279,698,020\n",
    "    "
   ]
  }
 ],
 "metadata": {
  "kernelspec": {
   "display_name": "Python 3",
   "language": "python",
   "name": "python3"
  },
  "language_info": {
   "codemirror_mode": {
    "name": "ipython",
    "version": 3
   },
   "file_extension": ".py",
   "mimetype": "text/x-python",
   "name": "python",
   "nbconvert_exporter": "python",
   "pygments_lexer": "ipython3",
   "version": "3.6.5"
  }
 },
 "nbformat": 4,
 "nbformat_minor": 2
}
