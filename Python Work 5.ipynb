{
 "cells": [
  {
   "cell_type": "markdown",
   "metadata": {},
   "source": [
    "# # Below I worked with Travel Pony Facebook Data to determine where they should focus advertisments to.  By creating multiple regressions I found the must predictive variables."
   ]
  },
  {
   "cell_type": "code",
   "execution_count": 2,
   "metadata": {},
   "outputs": [
    {
     "ename": "SyntaxError",
     "evalue": "EOF while scanning triple-quoted string literal (<ipython-input-2-6f5f40a5cf7d>, line 55)",
     "output_type": "error",
     "traceback": [
      "\u001b[1;36m  File \u001b[1;32m\"<ipython-input-2-6f5f40a5cf7d>\"\u001b[1;36m, line \u001b[1;32m55\u001b[0m\n\u001b[1;33m    #What are the three predictors with the highest predictive value (rank them, please).\u001b[0m\n\u001b[1;37m                                                                                         \n^\u001b[0m\n\u001b[1;31mSyntaxError\u001b[0m\u001b[1;31m:\u001b[0m EOF while scanning triple-quoted string literal\n"
     ]
    }
   ],
   "source": [
    "import pandas as pd\n",
    "import statsmodels.api as sm\n",
    "\n",
    "tp = pd.read_csv('Travel Pony Facebook.csv')\n",
    "print(tp.head(2))\n",
    "\n",
    "#1\n",
    "#First, remove rows that have 0 amount spent. These are campaigns that never really ran, and they'll just mess with our results. \n",
    "#Work with this data for all following questions.\n",
    "\n",
    "tp = tp[tp['Amount Spent (USD)'] !=0]\n",
    "\n",
    "#Next, graph a histogram of Amount Spent using Seaborn, here's an example:\n",
    "import seaborn as sns\n",
    "sns.set_style('darkgrid')\n",
    "sns.distplot(tp['Amount Spent (USD)'])\n",
    "\n",
    "#2. Build a multiple regression where the outcome variable is Amount Spent and the predictor variables are: \n",
    "#Campaign Name\n",
    "#Reach\n",
    "#Frequency\n",
    "#Impressions\n",
    "#Clicks\n",
    "#Unique Clicks\n",
    "#Page Likes\n",
    "#Page Engagement\n",
    "#Post Engagement\n",
    "#Post Likes\n",
    "#Post Comments\n",
    "#Post Shares\n",
    "#Photo Views\n",
    "#Website Clicks\n",
    "#Make sure that you convert \"Campaign Name\" to some type of categorical value that the regression understands as such.\n",
    "\n",
    "tp['Campaign Name'] = tp['Campaign Name'].astype('category')\n",
    "tp['Campaign Code'] = tp['Campaign Name'].cat.codes\n",
    "\n",
    "\n",
    "\n",
    "#Run a multiple regression \n",
    "\n",
    "x = tp[['Reach', 'Frequency', 'Impressions', 'Clicks', 'Unique Clicks', 'Page Likes', 'Page Engagement', 'Post Likes',  'Post Comments', 'Post Shares', 'Photo Views', 'Website Clicks', 'Campaign Code']]\n",
    "y = tp['Amount Spent (USD)']\n",
    "\n",
    "\n",
    "x=sm.add_constant(x)\n",
    "model = sm.OLS(y,x).fit()\n",
    "predictions = model.predict(x)\n",
    "\n",
    "print (model.summary())\n",
    "#3. Look at the coefficients for each one of your predictor variables. The higher the value, the stronger predictive value the variable\n",
    "# has with amount spent. That is, when we spend more, we tend to get more of this variable than anything else.\n",
    " #What are the three predictors with the highest predictive value (rank them, please)."
   ]
  },
  {
   "cell_type": "code",
   "execution_count": null,
   "metadata": {},
   "outputs": [],
   "source": []
  }
 ],
 "metadata": {
  "kernelspec": {
   "display_name": "Python 3",
   "language": "python",
   "name": "python3"
  },
  "language_info": {
   "codemirror_mode": {
    "name": "ipython",
    "version": 3
   },
   "file_extension": ".py",
   "mimetype": "text/x-python",
   "name": "python",
   "nbconvert_exporter": "python",
   "pygments_lexer": "ipython3",
   "version": "3.6.5"
  }
 },
 "nbformat": 4,
 "nbformat_minor": 2
}
